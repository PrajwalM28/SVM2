{
 "cells": [
  {
   "cell_type": "markdown",
   "id": "a3addb84-95cd-4327-961c-5a91bac9a1e9",
   "metadata": {},
   "source": [
    "# Q1.\n",
    "### What is the relationship between polynomial functions and kernel functions in machine learning algorithms?"
   ]
  },
  {
   "cell_type": "markdown",
   "id": "2538c244-9f72-47a3-bb53-95bcf2d30d5d",
   "metadata": {},
   "source": [
    "- Polynomial kernel functions are a type of kernel function used in SVMs to compute the dot product between data points in a higher-dimensional space without explicitly transforming the data.\n",
    "\n",
    "- Polynomial functions, on the other hand, are mathematical functions used to model relationships between variables, where the variables are raised to powers and multiplied by coefficients."
   ]
  },
  {
   "cell_type": "markdown",
   "id": "6762991b-2166-44fd-912e-24257a1da908",
   "metadata": {},
   "source": [
    "# Q2.\n",
    "### How can we implement an SVM with a polynomial kernel in Python using Scikit-learn?"
   ]
  },
  {
   "cell_type": "markdown",
   "id": "d824f592-9862-4dc9-b009-5be98d9f6b07",
   "metadata": {},
   "source": [
    "##### Create an instance of the SVC classifier\n",
    "svc = SVC(kernel='poly')"
   ]
  },
  {
   "cell_type": "markdown",
   "id": "9b7312c0-328e-4aa0-b73a-480dfdac3737",
   "metadata": {},
   "source": [
    "# Q3.\n",
    "### How does increasing the value of epsilon affect the number of support vectors in SVR?"
   ]
  },
  {
   "cell_type": "markdown",
   "id": "0194bb4d-eccb-4289-9505-931e6bd9618a",
   "metadata": {},
   "source": [
    "-  Epsilon controls the width of the margin within which no penalty is associated with errors. When epsilon is increased, the margin becomes wider, allowing more data points to fall within it without being penalized. As a result, fewer support vectors are needed to define the regression function."
   ]
  },
  {
   "cell_type": "markdown",
   "id": "bbe21a73-f7dd-45fe-8679-8bfbc47fe0aa",
   "metadata": {},
   "source": [
    "# Q4.\n",
    "### How does the choice of kernel function, C parameter, epsilon parameter, and gamma parameter affect the performance of Support Vector Regression (SVR)? Can you explain how each parameter works and provide examples of when you might want to increase or decrease its value?"
   ]
  },
  {
   "cell_type": "markdown",
   "id": "d23867f1-2858-41df-9ea4-004e3e261851",
   "metadata": {},
   "source": [
    "- Kernel function: Choose a kernel function based on the problem and data characteristics. For example, use a polynomial kernel for data with polynomial relationships.\n",
    "\n",
    "- C parameter: Increase C if you want to reduce errors at the expense of a narrower margin. Decrease C if you want to prioritize a wider margin, allowing for more tolerance to errors.\n",
    "\n",
    "- Epsilon parameter: Increase epsilon if you want to allow for larger errors within the margin. Decrease epsilon if you want to enforce a tighter margin with less tolerance to errors.\n",
    "\n",
    "- Gamma parameter: Increase gamma if you want to create a more complex decision boundary that closely fits the training data. Decrease gamma if you want to make the decision boundary smoother and prevent overfitting."
   ]
  },
  {
   "cell_type": "markdown",
   "id": "e82834eb-1d0b-43b1-b7cb-6c8b8adaca9d",
   "metadata": {},
   "source": [
    "# Q5."
   ]
  },
  {
   "cell_type": "code",
   "execution_count": 17,
   "id": "f4752789-7fd9-4217-ba2b-d628e27f6a41",
   "metadata": {},
   "outputs": [],
   "source": [
    "import pandas as pd\n",
    "import numpy as np\n",
    "import matplotlib.pyplot as plt\n",
    "%matplotlib inline"
   ]
  },
  {
   "cell_type": "code",
   "execution_count": 18,
   "id": "b95ed7f7-21f8-4bd1-8eeb-2ec4c2c05861",
   "metadata": {},
   "outputs": [],
   "source": [
    "df = pd.read_csv('diabetes.csv')"
   ]
  },
  {
   "cell_type": "code",
   "execution_count": 19,
   "id": "527bbf5c-8b12-4500-a90e-0d0ea660cff0",
   "metadata": {},
   "outputs": [
    {
     "data": {
      "text/html": [
       "<div>\n",
       "<style scoped>\n",
       "    .dataframe tbody tr th:only-of-type {\n",
       "        vertical-align: middle;\n",
       "    }\n",
       "\n",
       "    .dataframe tbody tr th {\n",
       "        vertical-align: top;\n",
       "    }\n",
       "\n",
       "    .dataframe thead th {\n",
       "        text-align: right;\n",
       "    }\n",
       "</style>\n",
       "<table border=\"1\" class=\"dataframe\">\n",
       "  <thead>\n",
       "    <tr style=\"text-align: right;\">\n",
       "      <th></th>\n",
       "      <th>Pregnancies</th>\n",
       "      <th>Glucose</th>\n",
       "      <th>BloodPressure</th>\n",
       "      <th>SkinThickness</th>\n",
       "      <th>Insulin</th>\n",
       "      <th>BMI</th>\n",
       "      <th>DiabetesPedigreeFunction</th>\n",
       "      <th>Age</th>\n",
       "      <th>Outcome</th>\n",
       "    </tr>\n",
       "  </thead>\n",
       "  <tbody>\n",
       "    <tr>\n",
       "      <th>0</th>\n",
       "      <td>6</td>\n",
       "      <td>148</td>\n",
       "      <td>72</td>\n",
       "      <td>35</td>\n",
       "      <td>0</td>\n",
       "      <td>33.6</td>\n",
       "      <td>0.627</td>\n",
       "      <td>50</td>\n",
       "      <td>1</td>\n",
       "    </tr>\n",
       "    <tr>\n",
       "      <th>1</th>\n",
       "      <td>1</td>\n",
       "      <td>85</td>\n",
       "      <td>66</td>\n",
       "      <td>29</td>\n",
       "      <td>0</td>\n",
       "      <td>26.6</td>\n",
       "      <td>0.351</td>\n",
       "      <td>31</td>\n",
       "      <td>0</td>\n",
       "    </tr>\n",
       "    <tr>\n",
       "      <th>2</th>\n",
       "      <td>8</td>\n",
       "      <td>183</td>\n",
       "      <td>64</td>\n",
       "      <td>0</td>\n",
       "      <td>0</td>\n",
       "      <td>23.3</td>\n",
       "      <td>0.672</td>\n",
       "      <td>32</td>\n",
       "      <td>1</td>\n",
       "    </tr>\n",
       "    <tr>\n",
       "      <th>3</th>\n",
       "      <td>1</td>\n",
       "      <td>89</td>\n",
       "      <td>66</td>\n",
       "      <td>23</td>\n",
       "      <td>94</td>\n",
       "      <td>28.1</td>\n",
       "      <td>0.167</td>\n",
       "      <td>21</td>\n",
       "      <td>0</td>\n",
       "    </tr>\n",
       "    <tr>\n",
       "      <th>4</th>\n",
       "      <td>0</td>\n",
       "      <td>137</td>\n",
       "      <td>40</td>\n",
       "      <td>35</td>\n",
       "      <td>168</td>\n",
       "      <td>43.1</td>\n",
       "      <td>2.288</td>\n",
       "      <td>33</td>\n",
       "      <td>1</td>\n",
       "    </tr>\n",
       "  </tbody>\n",
       "</table>\n",
       "</div>"
      ],
      "text/plain": [
       "   Pregnancies  Glucose  BloodPressure  SkinThickness  Insulin   BMI  \\\n",
       "0            6      148             72             35        0  33.6   \n",
       "1            1       85             66             29        0  26.6   \n",
       "2            8      183             64              0        0  23.3   \n",
       "3            1       89             66             23       94  28.1   \n",
       "4            0      137             40             35      168  43.1   \n",
       "\n",
       "   DiabetesPedigreeFunction  Age  Outcome  \n",
       "0                     0.627   50        1  \n",
       "1                     0.351   31        0  \n",
       "2                     0.672   32        1  \n",
       "3                     0.167   21        0  \n",
       "4                     2.288   33        1  "
      ]
     },
     "execution_count": 19,
     "metadata": {},
     "output_type": "execute_result"
    }
   ],
   "source": [
    "df.head()"
   ]
  },
  {
   "cell_type": "code",
   "execution_count": 20,
   "id": "21d5a9df-4e93-45ee-995b-5ba8a91e36ec",
   "metadata": {},
   "outputs": [
    {
     "data": {
      "text/plain": [
       "Pregnancies                 0\n",
       "Glucose                     0\n",
       "BloodPressure               0\n",
       "SkinThickness               0\n",
       "Insulin                     0\n",
       "BMI                         0\n",
       "DiabetesPedigreeFunction    0\n",
       "Age                         0\n",
       "Outcome                     0\n",
       "dtype: int64"
      ]
     },
     "execution_count": 20,
     "metadata": {},
     "output_type": "execute_result"
    }
   ],
   "source": [
    "df.isnull().sum()"
   ]
  },
  {
   "cell_type": "code",
   "execution_count": 21,
   "id": "69490bb0-c366-4eac-a505-65762edc72de",
   "metadata": {},
   "outputs": [],
   "source": [
    "X = df.iloc[:,:-1]\n",
    "y = df.iloc[:,-1]"
   ]
  },
  {
   "cell_type": "code",
   "execution_count": 22,
   "id": "a6f95da5-8744-4690-8f36-632a41e4aaa5",
   "metadata": {},
   "outputs": [],
   "source": [
    "from sklearn.model_selection import train_test_split"
   ]
  },
  {
   "cell_type": "code",
   "execution_count": 23,
   "id": "6b25d839-6b2f-4a11-bbe9-7090b4d76963",
   "metadata": {},
   "outputs": [],
   "source": [
    "X_train,X_test,y_train,y_test = train_test_split(X,y,test_size = 0.25,random_state=10)"
   ]
  },
  {
   "cell_type": "code",
   "execution_count": 24,
   "id": "35c64982-7da6-4315-a56e-bb499521722e",
   "metadata": {},
   "outputs": [],
   "source": [
    "from sklearn.svm import SVC"
   ]
  },
  {
   "cell_type": "code",
   "execution_count": 25,
   "id": "2b4dafd2-34c3-4f25-b596-8f8f5ea11e11",
   "metadata": {},
   "outputs": [],
   "source": [
    "svc = SVC(kernel='linear')"
   ]
  },
  {
   "cell_type": "code",
   "execution_count": 26,
   "id": "a57c39fc-dd1c-4538-8c28-01b7738b3d50",
   "metadata": {},
   "outputs": [
    {
     "data": {
      "text/html": [
       "<style>#sk-container-id-2 {color: black;background-color: white;}#sk-container-id-2 pre{padding: 0;}#sk-container-id-2 div.sk-toggleable {background-color: white;}#sk-container-id-2 label.sk-toggleable__label {cursor: pointer;display: block;width: 100%;margin-bottom: 0;padding: 0.3em;box-sizing: border-box;text-align: center;}#sk-container-id-2 label.sk-toggleable__label-arrow:before {content: \"▸\";float: left;margin-right: 0.25em;color: #696969;}#sk-container-id-2 label.sk-toggleable__label-arrow:hover:before {color: black;}#sk-container-id-2 div.sk-estimator:hover label.sk-toggleable__label-arrow:before {color: black;}#sk-container-id-2 div.sk-toggleable__content {max-height: 0;max-width: 0;overflow: hidden;text-align: left;background-color: #f0f8ff;}#sk-container-id-2 div.sk-toggleable__content pre {margin: 0.2em;color: black;border-radius: 0.25em;background-color: #f0f8ff;}#sk-container-id-2 input.sk-toggleable__control:checked~div.sk-toggleable__content {max-height: 200px;max-width: 100%;overflow: auto;}#sk-container-id-2 input.sk-toggleable__control:checked~label.sk-toggleable__label-arrow:before {content: \"▾\";}#sk-container-id-2 div.sk-estimator input.sk-toggleable__control:checked~label.sk-toggleable__label {background-color: #d4ebff;}#sk-container-id-2 div.sk-label input.sk-toggleable__control:checked~label.sk-toggleable__label {background-color: #d4ebff;}#sk-container-id-2 input.sk-hidden--visually {border: 0;clip: rect(1px 1px 1px 1px);clip: rect(1px, 1px, 1px, 1px);height: 1px;margin: -1px;overflow: hidden;padding: 0;position: absolute;width: 1px;}#sk-container-id-2 div.sk-estimator {font-family: monospace;background-color: #f0f8ff;border: 1px dotted black;border-radius: 0.25em;box-sizing: border-box;margin-bottom: 0.5em;}#sk-container-id-2 div.sk-estimator:hover {background-color: #d4ebff;}#sk-container-id-2 div.sk-parallel-item::after {content: \"\";width: 100%;border-bottom: 1px solid gray;flex-grow: 1;}#sk-container-id-2 div.sk-label:hover label.sk-toggleable__label {background-color: #d4ebff;}#sk-container-id-2 div.sk-serial::before {content: \"\";position: absolute;border-left: 1px solid gray;box-sizing: border-box;top: 0;bottom: 0;left: 50%;z-index: 0;}#sk-container-id-2 div.sk-serial {display: flex;flex-direction: column;align-items: center;background-color: white;padding-right: 0.2em;padding-left: 0.2em;position: relative;}#sk-container-id-2 div.sk-item {position: relative;z-index: 1;}#sk-container-id-2 div.sk-parallel {display: flex;align-items: stretch;justify-content: center;background-color: white;position: relative;}#sk-container-id-2 div.sk-item::before, #sk-container-id-2 div.sk-parallel-item::before {content: \"\";position: absolute;border-left: 1px solid gray;box-sizing: border-box;top: 0;bottom: 0;left: 50%;z-index: -1;}#sk-container-id-2 div.sk-parallel-item {display: flex;flex-direction: column;z-index: 1;position: relative;background-color: white;}#sk-container-id-2 div.sk-parallel-item:first-child::after {align-self: flex-end;width: 50%;}#sk-container-id-2 div.sk-parallel-item:last-child::after {align-self: flex-start;width: 50%;}#sk-container-id-2 div.sk-parallel-item:only-child::after {width: 0;}#sk-container-id-2 div.sk-dashed-wrapped {border: 1px dashed gray;margin: 0 0.4em 0.5em 0.4em;box-sizing: border-box;padding-bottom: 0.4em;background-color: white;}#sk-container-id-2 div.sk-label label {font-family: monospace;font-weight: bold;display: inline-block;line-height: 1.2em;}#sk-container-id-2 div.sk-label-container {text-align: center;}#sk-container-id-2 div.sk-container {/* jupyter's `normalize.less` sets `[hidden] { display: none; }` but bootstrap.min.css set `[hidden] { display: none !important; }` so we also need the `!important` here to be able to override the default hidden behavior on the sphinx rendered scikit-learn.org. See: https://github.com/scikit-learn/scikit-learn/issues/21755 */display: inline-block !important;position: relative;}#sk-container-id-2 div.sk-text-repr-fallback {display: none;}</style><div id=\"sk-container-id-2\" class=\"sk-top-container\"><div class=\"sk-text-repr-fallback\"><pre>SVC(kernel=&#x27;linear&#x27;)</pre><b>In a Jupyter environment, please rerun this cell to show the HTML representation or trust the notebook. <br />On GitHub, the HTML representation is unable to render, please try loading this page with nbviewer.org.</b></div><div class=\"sk-container\" hidden><div class=\"sk-item\"><div class=\"sk-estimator sk-toggleable\"><input class=\"sk-toggleable__control sk-hidden--visually\" id=\"sk-estimator-id-2\" type=\"checkbox\" checked><label for=\"sk-estimator-id-2\" class=\"sk-toggleable__label sk-toggleable__label-arrow\">SVC</label><div class=\"sk-toggleable__content\"><pre>SVC(kernel=&#x27;linear&#x27;)</pre></div></div></div></div></div>"
      ],
      "text/plain": [
       "SVC(kernel='linear')"
      ]
     },
     "execution_count": 26,
     "metadata": {},
     "output_type": "execute_result"
    }
   ],
   "source": [
    "svc.fit(X_train,y_train)"
   ]
  },
  {
   "cell_type": "code",
   "execution_count": 27,
   "id": "f1af9db4-26d1-4231-9487-2dffdbeffd45",
   "metadata": {},
   "outputs": [],
   "source": [
    "y_pred = svc.predict(X_test)"
   ]
  },
  {
   "cell_type": "code",
   "execution_count": 28,
   "id": "fef47877-a90d-4e42-b3d7-c51980f4e946",
   "metadata": {},
   "outputs": [],
   "source": [
    "from sklearn.metrics import classification_report , accuracy_score , confusion_matrix"
   ]
  },
  {
   "cell_type": "code",
   "execution_count": 29,
   "id": "9d90ff4f-843b-468b-a45a-ae93ff554a92",
   "metadata": {},
   "outputs": [
    {
     "name": "stdout",
     "output_type": "stream",
     "text": [
      "              precision    recall  f1-score   support\n",
      "\n",
      "           0       0.74      0.89      0.81       121\n",
      "           1       0.72      0.46      0.56        71\n",
      "\n",
      "    accuracy                           0.73       192\n",
      "   macro avg       0.73      0.68      0.69       192\n",
      "weighted avg       0.73      0.73      0.72       192\n",
      "\n",
      "0.734375\n",
      "[[108  13]\n",
      " [ 38  33]]\n"
     ]
    }
   ],
   "source": [
    "print(classification_report(y_test,y_pred))\n",
    "print(accuracy_score(y_test,y_pred))\n",
    "print(confusion_matrix(y_test,y_pred))"
   ]
  },
  {
   "cell_type": "code",
   "execution_count": 30,
   "id": "e261f2e1-b08d-48cc-aa20-99fc7a6d84a7",
   "metadata": {},
   "outputs": [],
   "source": [
    "from sklearn.model_selection import GridSearchCV\n",
    "param = {'C' : [0.1,1,10,100,1000],\n",
    "         'gamma' : [1,0.1,0.01,0.001,0.0001],\n",
    "         'kernel':['linear']\n",
    "        }"
   ]
  },
  {
   "cell_type": "code",
   "execution_count": 31,
   "id": "a0479706-2346-4715-8c39-e763266e143f",
   "metadata": {},
   "outputs": [],
   "source": [
    "grid = GridSearchCV(SVC(),param_grid = param , refit=True,cv = 2, verbose=3)"
   ]
  },
  {
   "cell_type": "code",
   "execution_count": 32,
   "id": "2892f9e0-698d-4c92-8499-a8212b9d41fc",
   "metadata": {},
   "outputs": [
    {
     "name": "stdout",
     "output_type": "stream",
     "text": [
      "Fitting 2 folds for each of 25 candidates, totalling 50 fits\n",
      "[CV 1/2] END .....C=0.1, gamma=1, kernel=linear;, score=0.788 total time=   0.3s\n",
      "[CV 2/2] END .....C=0.1, gamma=1, kernel=linear;, score=0.771 total time=   0.1s\n",
      "[CV 1/2] END ...C=0.1, gamma=0.1, kernel=linear;, score=0.788 total time=   0.3s\n",
      "[CV 2/2] END ...C=0.1, gamma=0.1, kernel=linear;, score=0.771 total time=   0.1s\n",
      "[CV 1/2] END ..C=0.1, gamma=0.01, kernel=linear;, score=0.788 total time=   0.3s\n",
      "[CV 2/2] END ..C=0.1, gamma=0.01, kernel=linear;, score=0.771 total time=   0.1s\n",
      "[CV 1/2] END .C=0.1, gamma=0.001, kernel=linear;, score=0.788 total time=   0.3s\n",
      "[CV 2/2] END .C=0.1, gamma=0.001, kernel=linear;, score=0.771 total time=   0.1s\n",
      "[CV 1/2] END C=0.1, gamma=0.0001, kernel=linear;, score=0.788 total time=   0.3s\n",
      "[CV 2/2] END C=0.1, gamma=0.0001, kernel=linear;, score=0.771 total time=   0.1s\n",
      "[CV 1/2] END .......C=1, gamma=1, kernel=linear;, score=0.795 total time=   1.8s\n",
      "[CV 2/2] END .......C=1, gamma=1, kernel=linear;, score=0.764 total time=   1.6s\n",
      "[CV 1/2] END .....C=1, gamma=0.1, kernel=linear;, score=0.795 total time=   1.8s\n",
      "[CV 2/2] END .....C=1, gamma=0.1, kernel=linear;, score=0.764 total time=   1.6s\n",
      "[CV 1/2] END ....C=1, gamma=0.01, kernel=linear;, score=0.795 total time=   1.8s\n",
      "[CV 2/2] END ....C=1, gamma=0.01, kernel=linear;, score=0.764 total time=   1.6s\n",
      "[CV 1/2] END ...C=1, gamma=0.001, kernel=linear;, score=0.795 total time=   1.8s\n",
      "[CV 2/2] END ...C=1, gamma=0.001, kernel=linear;, score=0.764 total time=   1.6s\n",
      "[CV 1/2] END ..C=1, gamma=0.0001, kernel=linear;, score=0.795 total time=   1.8s\n",
      "[CV 2/2] END ..C=1, gamma=0.0001, kernel=linear;, score=0.764 total time=   1.6s\n",
      "[CV 1/2] END ......C=10, gamma=1, kernel=linear;, score=0.795 total time=  46.7s\n",
      "[CV 2/2] END ......C=10, gamma=1, kernel=linear;, score=0.781 total time=   5.8s\n",
      "[CV 1/2] END ....C=10, gamma=0.1, kernel=linear;, score=0.795 total time=  46.9s\n",
      "[CV 2/2] END ....C=10, gamma=0.1, kernel=linear;, score=0.781 total time=   5.8s\n",
      "[CV 1/2] END ...C=10, gamma=0.01, kernel=linear;, score=0.795 total time=  46.8s\n",
      "[CV 2/2] END ...C=10, gamma=0.01, kernel=linear;, score=0.781 total time=   5.8s\n",
      "[CV 1/2] END ..C=10, gamma=0.001, kernel=linear;, score=0.795 total time=  46.8s\n",
      "[CV 2/2] END ..C=10, gamma=0.001, kernel=linear;, score=0.781 total time=   5.8s\n",
      "[CV 1/2] END .C=10, gamma=0.0001, kernel=linear;, score=0.795 total time=  46.7s\n",
      "[CV 2/2] END .C=10, gamma=0.0001, kernel=linear;, score=0.781 total time=   5.8s\n",
      "[CV 1/2] END .....C=100, gamma=1, kernel=linear;, score=0.788 total time= 1.5min\n",
      "[CV 2/2] END .....C=100, gamma=1, kernel=linear;, score=0.778 total time=  46.3s\n",
      "[CV 1/2] END ...C=100, gamma=0.1, kernel=linear;, score=0.788 total time= 1.5min\n",
      "[CV 2/2] END ...C=100, gamma=0.1, kernel=linear;, score=0.778 total time=  46.2s\n",
      "[CV 1/2] END ..C=100, gamma=0.01, kernel=linear;, score=0.788 total time= 1.5min\n",
      "[CV 2/2] END ..C=100, gamma=0.01, kernel=linear;, score=0.778 total time=  46.1s\n",
      "[CV 1/2] END .C=100, gamma=0.001, kernel=linear;, score=0.788 total time= 1.5min\n",
      "[CV 2/2] END .C=100, gamma=0.001, kernel=linear;, score=0.778 total time=  46.2s\n",
      "[CV 1/2] END C=100, gamma=0.0001, kernel=linear;, score=0.788 total time= 1.5min\n",
      "[CV 2/2] END C=100, gamma=0.0001, kernel=linear;, score=0.778 total time=  46.2s\n",
      "[CV 1/2] END ....C=1000, gamma=1, kernel=linear;, score=0.788 total time= 3.1min\n",
      "[CV 2/2] END ....C=1000, gamma=1, kernel=linear;, score=0.757 total time= 1.6min\n",
      "[CV 1/2] END ..C=1000, gamma=0.1, kernel=linear;, score=0.788 total time= 3.1min\n",
      "[CV 2/2] END ..C=1000, gamma=0.1, kernel=linear;, score=0.757 total time= 1.6min\n",
      "[CV 1/2] END .C=1000, gamma=0.01, kernel=linear;, score=0.788 total time= 3.1min\n",
      "[CV 2/2] END .C=1000, gamma=0.01, kernel=linear;, score=0.757 total time= 1.6min\n",
      "[CV 1/2] END C=1000, gamma=0.001, kernel=linear;, score=0.788 total time= 3.1min\n",
      "[CV 2/2] END C=1000, gamma=0.001, kernel=linear;, score=0.757 total time= 1.6min\n",
      "[CV 1/2] END C=1000, gamma=0.0001, kernel=linear;, score=0.788 total time= 3.1min\n",
      "[CV 2/2] END C=1000, gamma=0.0001, kernel=linear;, score=0.757 total time= 1.6min\n"
     ]
    },
    {
     "data": {
      "text/html": [
       "<style>#sk-container-id-3 {color: black;background-color: white;}#sk-container-id-3 pre{padding: 0;}#sk-container-id-3 div.sk-toggleable {background-color: white;}#sk-container-id-3 label.sk-toggleable__label {cursor: pointer;display: block;width: 100%;margin-bottom: 0;padding: 0.3em;box-sizing: border-box;text-align: center;}#sk-container-id-3 label.sk-toggleable__label-arrow:before {content: \"▸\";float: left;margin-right: 0.25em;color: #696969;}#sk-container-id-3 label.sk-toggleable__label-arrow:hover:before {color: black;}#sk-container-id-3 div.sk-estimator:hover label.sk-toggleable__label-arrow:before {color: black;}#sk-container-id-3 div.sk-toggleable__content {max-height: 0;max-width: 0;overflow: hidden;text-align: left;background-color: #f0f8ff;}#sk-container-id-3 div.sk-toggleable__content pre {margin: 0.2em;color: black;border-radius: 0.25em;background-color: #f0f8ff;}#sk-container-id-3 input.sk-toggleable__control:checked~div.sk-toggleable__content {max-height: 200px;max-width: 100%;overflow: auto;}#sk-container-id-3 input.sk-toggleable__control:checked~label.sk-toggleable__label-arrow:before {content: \"▾\";}#sk-container-id-3 div.sk-estimator input.sk-toggleable__control:checked~label.sk-toggleable__label {background-color: #d4ebff;}#sk-container-id-3 div.sk-label input.sk-toggleable__control:checked~label.sk-toggleable__label {background-color: #d4ebff;}#sk-container-id-3 input.sk-hidden--visually {border: 0;clip: rect(1px 1px 1px 1px);clip: rect(1px, 1px, 1px, 1px);height: 1px;margin: -1px;overflow: hidden;padding: 0;position: absolute;width: 1px;}#sk-container-id-3 div.sk-estimator {font-family: monospace;background-color: #f0f8ff;border: 1px dotted black;border-radius: 0.25em;box-sizing: border-box;margin-bottom: 0.5em;}#sk-container-id-3 div.sk-estimator:hover {background-color: #d4ebff;}#sk-container-id-3 div.sk-parallel-item::after {content: \"\";width: 100%;border-bottom: 1px solid gray;flex-grow: 1;}#sk-container-id-3 div.sk-label:hover label.sk-toggleable__label {background-color: #d4ebff;}#sk-container-id-3 div.sk-serial::before {content: \"\";position: absolute;border-left: 1px solid gray;box-sizing: border-box;top: 0;bottom: 0;left: 50%;z-index: 0;}#sk-container-id-3 div.sk-serial {display: flex;flex-direction: column;align-items: center;background-color: white;padding-right: 0.2em;padding-left: 0.2em;position: relative;}#sk-container-id-3 div.sk-item {position: relative;z-index: 1;}#sk-container-id-3 div.sk-parallel {display: flex;align-items: stretch;justify-content: center;background-color: white;position: relative;}#sk-container-id-3 div.sk-item::before, #sk-container-id-3 div.sk-parallel-item::before {content: \"\";position: absolute;border-left: 1px solid gray;box-sizing: border-box;top: 0;bottom: 0;left: 50%;z-index: -1;}#sk-container-id-3 div.sk-parallel-item {display: flex;flex-direction: column;z-index: 1;position: relative;background-color: white;}#sk-container-id-3 div.sk-parallel-item:first-child::after {align-self: flex-end;width: 50%;}#sk-container-id-3 div.sk-parallel-item:last-child::after {align-self: flex-start;width: 50%;}#sk-container-id-3 div.sk-parallel-item:only-child::after {width: 0;}#sk-container-id-3 div.sk-dashed-wrapped {border: 1px dashed gray;margin: 0 0.4em 0.5em 0.4em;box-sizing: border-box;padding-bottom: 0.4em;background-color: white;}#sk-container-id-3 div.sk-label label {font-family: monospace;font-weight: bold;display: inline-block;line-height: 1.2em;}#sk-container-id-3 div.sk-label-container {text-align: center;}#sk-container-id-3 div.sk-container {/* jupyter's `normalize.less` sets `[hidden] { display: none; }` but bootstrap.min.css set `[hidden] { display: none !important; }` so we also need the `!important` here to be able to override the default hidden behavior on the sphinx rendered scikit-learn.org. See: https://github.com/scikit-learn/scikit-learn/issues/21755 */display: inline-block !important;position: relative;}#sk-container-id-3 div.sk-text-repr-fallback {display: none;}</style><div id=\"sk-container-id-3\" class=\"sk-top-container\"><div class=\"sk-text-repr-fallback\"><pre>GridSearchCV(cv=2, estimator=SVC(),\n",
       "             param_grid={&#x27;C&#x27;: [0.1, 1, 10, 100, 1000],\n",
       "                         &#x27;gamma&#x27;: [1, 0.1, 0.01, 0.001, 0.0001],\n",
       "                         &#x27;kernel&#x27;: [&#x27;linear&#x27;]},\n",
       "             verbose=3)</pre><b>In a Jupyter environment, please rerun this cell to show the HTML representation or trust the notebook. <br />On GitHub, the HTML representation is unable to render, please try loading this page with nbviewer.org.</b></div><div class=\"sk-container\" hidden><div class=\"sk-item sk-dashed-wrapped\"><div class=\"sk-label-container\"><div class=\"sk-label sk-toggleable\"><input class=\"sk-toggleable__control sk-hidden--visually\" id=\"sk-estimator-id-3\" type=\"checkbox\" ><label for=\"sk-estimator-id-3\" class=\"sk-toggleable__label sk-toggleable__label-arrow\">GridSearchCV</label><div class=\"sk-toggleable__content\"><pre>GridSearchCV(cv=2, estimator=SVC(),\n",
       "             param_grid={&#x27;C&#x27;: [0.1, 1, 10, 100, 1000],\n",
       "                         &#x27;gamma&#x27;: [1, 0.1, 0.01, 0.001, 0.0001],\n",
       "                         &#x27;kernel&#x27;: [&#x27;linear&#x27;]},\n",
       "             verbose=3)</pre></div></div></div><div class=\"sk-parallel\"><div class=\"sk-parallel-item\"><div class=\"sk-item\"><div class=\"sk-label-container\"><div class=\"sk-label sk-toggleable\"><input class=\"sk-toggleable__control sk-hidden--visually\" id=\"sk-estimator-id-4\" type=\"checkbox\" ><label for=\"sk-estimator-id-4\" class=\"sk-toggleable__label sk-toggleable__label-arrow\">estimator: SVC</label><div class=\"sk-toggleable__content\"><pre>SVC()</pre></div></div></div><div class=\"sk-serial\"><div class=\"sk-item\"><div class=\"sk-estimator sk-toggleable\"><input class=\"sk-toggleable__control sk-hidden--visually\" id=\"sk-estimator-id-5\" type=\"checkbox\" ><label for=\"sk-estimator-id-5\" class=\"sk-toggleable__label sk-toggleable__label-arrow\">SVC</label><div class=\"sk-toggleable__content\"><pre>SVC()</pre></div></div></div></div></div></div></div></div></div></div>"
      ],
      "text/plain": [
       "GridSearchCV(cv=2, estimator=SVC(),\n",
       "             param_grid={'C': [0.1, 1, 10, 100, 1000],\n",
       "                         'gamma': [1, 0.1, 0.01, 0.001, 0.0001],\n",
       "                         'kernel': ['linear']},\n",
       "             verbose=3)"
      ]
     },
     "execution_count": 32,
     "metadata": {},
     "output_type": "execute_result"
    }
   ],
   "source": [
    "grid.fit(X_train,y_train) "
   ]
  },
  {
   "cell_type": "code",
   "execution_count": 33,
   "id": "3e6db800-9b1c-424f-a571-2807163a341a",
   "metadata": {},
   "outputs": [
    {
     "name": "stdout",
     "output_type": "stream",
     "text": [
      "0.7395833333333334\n"
     ]
    }
   ],
   "source": [
    "y_pred = grid.predict(X_test)\n",
    "print(accuracy_score(y_test,y_pred))"
   ]
  }
 ],
 "metadata": {
  "kernelspec": {
   "display_name": "Python 3 (ipykernel)",
   "language": "python",
   "name": "python3"
  },
  "language_info": {
   "codemirror_mode": {
    "name": "ipython",
    "version": 3
   },
   "file_extension": ".py",
   "mimetype": "text/x-python",
   "name": "python",
   "nbconvert_exporter": "python",
   "pygments_lexer": "ipython3",
   "version": "3.10.8"
  }
 },
 "nbformat": 4,
 "nbformat_minor": 5
}
